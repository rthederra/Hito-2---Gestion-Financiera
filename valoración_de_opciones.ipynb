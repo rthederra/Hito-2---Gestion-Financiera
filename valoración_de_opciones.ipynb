{
  "nbformat": 4,
  "nbformat_minor": 0,
  "metadata": {
    "colab": {
      "provenance": [],
      "authorship_tag": "ABX9TyOQF4qBKNATg02r/JOOU6Be",
      "include_colab_link": true
    },
    "kernelspec": {
      "name": "python3",
      "display_name": "Python 3"
    },
    "language_info": {
      "name": "python"
    }
  },
  "cells": [
    {
      "cell_type": "markdown",
      "metadata": {
        "id": "view-in-github",
        "colab_type": "text"
      },
      "source": [
        "<a href=\"https://colab.research.google.com/github/rthederra/Hito-2---Gestion-Financiera/blob/main/valoraci%C3%B3n_de_opciones.ipynb\" target=\"_parent\"><img src=\"https://colab.research.google.com/assets/colab-badge.svg\" alt=\"Open In Colab\"/></a>"
      ]
    },
    {
      "cell_type": "code",
      "execution_count": null,
      "metadata": {
        "colab": {
          "base_uri": "https://localhost:8080/"
        },
        "id": "Yir6T82Z9sdm",
        "outputId": "9f549aa3-08ff-440e-df02-18489eb7b3e0"
      },
      "outputs": [
        {
          "output_type": "stream",
          "name": "stdout",
          "text": [
            "Collecting bolsa-stgo\n",
            "  Downloading bolsa_stgo-0.1.0-py3-none-any.whl (11 kB)\n",
            "Installing collected packages: bolsa-stgo\n",
            "Successfully installed bolsa-stgo-0.1.0\n"
          ]
        }
      ],
      "source": [
        "import math\n",
        "from scipy.stats import norm\n",
        "import numpy as np\n",
        "import pandas as pd\n",
        "\n",
        "!pip install bolsa-stgo"
      ]
    },
    {
      "cell_type": "markdown",
      "source": [
        "# Valoración opciones aplicada\n",
        "\n",
        "Tome en consideración el modelo continuio de Black and Scholes:\n",
        "\n",
        "$$C(S,t)=S\\cdot\\Phi(d_1)-K\\exp(-R\\cdot t)\\cdot\\Phi(d_2)$$\n",
        "\n",
        "donde $d_1=\\frac{\\log\\frac{S}{K}+\\left(R+\\frac{\\sigma^2}{2}\\right)\\cdot t}{\\sqrt{\\sigma^2\\cdot t}}$ y $d_2=d_1-\\sqrt{\\sigma^2\\cdot t}$.\n",
        "\n",
        "Defina los parámetros asociados a valores del activo definido en la Tarea 1 y calcule el valor de una opción de compra."
      ],
      "metadata": {
        "id": "GvrLhcOvKFFL"
      }
    },
    {
      "cell_type": "markdown",
      "source": [
        "## Black-Scholes"
      ],
      "metadata": {
        "id": "jxsbevlmKJYU"
      }
    },
    {
      "cell_type": "code",
      "source": [
        "# Parámetros de test\n",
        "K = 100\n",
        "r = 0.02\n",
        "sigma = 0.2\n",
        "T = 0.5\n",
        "S0 = 102\n",
        "# Resultado esperado CALL\n",
        "# 7.28815118277163\n",
        "\n",
        "d1 = (math.log(S0 / K) + (r + (sigma**2) / 2) * T) / (sigma * math.sqrt(T))\n",
        "d2 = d1 - sigma * math.sqrt(T)\n",
        "bs_call = S0 * norm.cdf(d1) - K * math.exp(-r * T) * norm.cdf(d2)\n",
        "bs_put = K * math.exp(-r * T) * norm.cdf(-d2) - S0 * norm.cdf(-d1)\n",
        "\n",
        "print(\"opcion de compra (call): \", bs_call)\n",
        "print(\"opcion de venta (put): \", bs_put)"
      ],
      "metadata": {
        "colab": {
          "base_uri": "https://localhost:8080/"
        },
        "id": "r58XMJjjKHsK",
        "outputId": "b461a4a3-8af1-4fc2-ecf6-379b9648dc99"
      },
      "execution_count": null,
      "outputs": [
        {
          "output_type": "stream",
          "name": "stdout",
          "text": [
            "opcion de compra (call):  7.288151182771628\n",
            "opcion de venta (put):  4.2931345576884326\n"
          ]
        }
      ]
    },
    {
      "cell_type": "markdown",
      "source": [
        "## Segundo Modelo de valoración"
      ],
      "metadata": {
        "id": "2n3n_bRMKNub"
      }
    },
    {
      "cell_type": "markdown",
      "source": [
        "###Aproximación binomial\n",
        "El modelo binomial es un enfoque discreto que divide el tiempo hasta la expiración en pasos discretos y modela el comportamiento del precio del activo subyacente como una serie de movimientos hacia arriba y hacia abajo con sus respectivas probabilidades. Este modelo puede utilizarse para valorar opciones de compra y venta."
      ],
      "metadata": {
        "id": "v-pxVmpPUGCO"
      }
    },
    {
      "cell_type": "markdown",
      "source": [
        "A continuación esta el codigo de el modelo binomial con 1.000 pasos:"
      ],
      "metadata": {
        "id": "gWklrnNzXWFG"
      }
    },
    {
      "cell_type": "code",
      "source": [
        "def aprox_binomial(S0, K, T, r, sigma, n, opcion='call'):\n",
        "\n",
        "    dt = T / n                                                                                                          #paso del tiempo, tiempo total/ n pasos\n",
        "    u = math.exp(sigma * math.sqrt(dt))                                                                                 #crecimiento del precio del activo subyacente\n",
        "    d = 1 / u                                                                                                           #decrecimiento del precio del activo subyacente\n",
        "    q = (math.exp(r * dt) - d) / (u - d)                                                                                #probabilidad de que el precio del activo subyacente suba a lo largo del tiempo\n",
        "\n",
        "                                                                                                                        #construir el árbol binomial para el precio del activo subyacente\n",
        "    arbol_precios = [[0 for _ in range(n+1)] for _ in range(n+1)]                                                       #almacena los posibles precios del activo subyacente en cada punto del tiempo\n",
        "    for j in range(n+1):\n",
        "        arbol_precios[n][j] = S0 * (u ** (n - j)) * (d ** j)\n",
        "                                                                                                                        #calcular el valor de la opción utilizando el árbol binomial\n",
        "    arbol_opciones = [[0 for _ in range(n+1)] for _ in range(n+1)]                                                      #almacena el valor de la opción en los mismos puntos que el arbol de precios\n",
        "    for j in range(n+1):\n",
        "        if opcion == 'call':\n",
        "            arbol_opciones[n][j] = max(0, arbol_precios[n][j] - K)\n",
        "        elif opcion == 'put':\n",
        "            arbol_opciones[n][j] = max(0, K - arbol_precios[n][j])\n",
        "    for i in range(n-1, -1, -1):\n",
        "        for j in range(i+1):\n",
        "            if opcion == 'call':\n",
        "                arbol_opciones[i][j] = math.exp(-r * dt) * (q * arbol_opciones[i+1][j] + (1 - q) * arbol_opciones[i+1][j+1])\n",
        "            elif opcion == 'put':\n",
        "                arbol_opciones[i][j] = math.exp(-r * dt) * (q * arbol_opciones[i+1][j] + (1 - q) * arbol_opciones[i+1][j+1])\n",
        "    return arbol_opciones[0][0]\n",
        "\n",
        "n = 1000                                                                                                                #numero de pasos en la aproximación binomial\n",
        "opcion = 'call'\n",
        "precio = aprox_binomial(S0, K, T, r, sigma, n, opcion)\n",
        "print(\"el precio de la opcion de compra (call) es: \", precio)\n",
        "opcion = 'put'\n",
        "precio = aprox_binomial(S0, K, T, r, sigma, n, opcion)\n",
        "print(\"el precio de la opcion de venta (put) es: \", precio)"
      ],
      "metadata": {
        "colab": {
          "base_uri": "https://localhost:8080/"
        },
        "id": "J4wKHurrKSgq",
        "outputId": "450cb88b-e248-4e4f-fa8c-6e1ca54366f4"
      },
      "execution_count": null,
      "outputs": [
        {
          "output_type": "stream",
          "name": "stdout",
          "text": [
            "el precio de la opcion de compra (call) es:  7.288615305151679\n",
            "el precio de la opcion de venta (put) es:  4.293598680078453\n"
          ]
        }
      ]
    },
    {
      "cell_type": "markdown",
      "source": [
        "Podriamos tratar de hacerlo con más pasos para darle más exactitud, por ejemplo 10.000 pero demorará mucho más y no cambia mucho el resultado. La aproximación es casi la misma"
      ],
      "metadata": {
        "id": "06FyibVJXeG6"
      }
    },
    {
      "cell_type": "code",
      "source": [
        "n = 10000\n",
        "opcion = 'call'\n",
        "precio = aprox_binomial(S0, K, T, r, sigma, n, opcion)\n",
        "print(\"el precio de la opcion de compra (call) es: \", precio)\n",
        "opcion = 'put'\n",
        "precio = aprox_binomial(S0, K, T, r, sigma, n, opcion)\n",
        "print(\"el precio de la opcion de venta (put) es: \", precio)"
      ],
      "metadata": {
        "colab": {
          "base_uri": "https://localhost:8080/"
        },
        "id": "9BRmEFFcWxbF",
        "outputId": "f223ff78-b98e-4c11-8e00-9c80c9e84445"
      },
      "execution_count": null,
      "outputs": [
        {
          "output_type": "stream",
          "name": "stdout",
          "text": [
            "el precio de la opcion de compra (call) es:  7.288013408812326\n",
            "el precio de la opcion de venta (put) es:  4.292996783767374\n"
          ]
        }
      ]
    },
    {
      "cell_type": "markdown",
      "source": [
        "El modelo binomial es una aproximación discreta, que divide al tiempo en pasos discretos, es decir, el precio se modela en base a la probabilidad de crecimiento/decrecimiento de este, por lo que es bueno para activos que fluctúan mucho y que pueden dar saltos grandes. Una desventaja de este modelo es que puede ser muy pesado para una computadora, por la cantidad grande de pasos.\n",
        "\n",
        "El modelo de Black-Scholes es una aproximación continua que usa ecuaciones diferenciales estocásticas para aproximar el precio, trabajando con formulas analíticas para calcular el precio teórico de las opciones, por lo que no utiliza tiempos discretos como el modelo binomial. Una desventaja de este modelo es que no tiene en cuenta movimientos abruptos del precio de las opciones y requiere suposiciones sobre lo constante de la volatilidad y de las tasas de interés, que no siempre es así.\n",
        "\n",
        "Como podemos ver en los codigos de arriba, mediante mayor cantidad de pasos en el modelo binomial mayor exactitud, pero podemos decir que ambos precios que nos otorga este modelo (en n=1.000 y n=10.000) fluctuan al rededor de el precio calculado con Black-Schols, por lo que podriamos decir que este modelo es el más acertado en este caso.\n"
      ],
      "metadata": {
        "id": "d5QB1ZlFemNg"
      }
    },
    {
      "cell_type": "markdown",
      "source": [
        "## Ingesta de datos"
      ],
      "metadata": {
        "id": "tvcRvqzrKTzm"
      }
    },
    {
      "cell_type": "code",
      "source": [
        "!pip install yfinance\n",
        "from datetime import datetime\n",
        "import yfinance as yf"
      ],
      "metadata": {
        "id": "jtKiUNJLuBsk"
      },
      "execution_count": null,
      "outputs": []
    },
    {
      "cell_type": "markdown",
      "source": [
        "Utilizamos la empresa de Estados Unidos American Tower Corporation, debido a que no se encontró inmobiliarias chilenas que tuvieran opciones."
      ],
      "metadata": {
        "id": "ag_x-yNNxuE9"
      }
    },
    {
      "cell_type": "code",
      "source": [
        "# Define el símbolo de la empresa y crea un objeto para obtener datos de opciones\n",
        "empresa = \"AMT\"  # Cambia esto al símbolo de la empresa que te interesa\n",
        "opcion = yf.Ticker(f\"{empresa}\")\n",
        "\n",
        "# Obtiene la información de las opciones\n",
        "opciones = opcion.options\n",
        "# Muestra las fechas de vencimiento de las opciones disponibles\n",
        "fecha = opciones[5]\n",
        "print(\"fecha que se va a utilizar: \", fecha)\n",
        "#print(\"Fechas de vencimiento de las opciones disponibles:\", opciones)"
      ],
      "metadata": {
        "id": "Z_kw1eLL8Vw8",
        "colab": {
          "base_uri": "https://localhost:8080/"
        },
        "outputId": "896540b2-8e74-4a39-aff9-4a5ff9b979d9"
      },
      "execution_count": null,
      "outputs": [
        {
          "output_type": "stream",
          "name": "stdout",
          "text": [
            "fecha que se va a utilizar:  2025-01-17\n"
          ]
        }
      ]
    },
    {
      "cell_type": "markdown",
      "source": [
        "Con la fecha de vencimiento de la opción tenemos acceso a sus datos, S0, K, T y sigma. Utilizaremos una tasas de 2%."
      ],
      "metadata": {
        "id": "1fkLnx5FPXbG"
      }
    },
    {
      "cell_type": "code",
      "source": [
        "fecha_vencimiento = fecha\n",
        "opciones_detalle = opcion.option_chain(fecha_vencimiento)\n",
        "fecha_vencimiento = datetime(2023, 11, 10)\n",
        "#print(opciones_detalle)\n",
        "#print(opciones_detalle.calls.head())\n",
        "S0 = opciones_detalle.calls['lastPrice'].iloc[0]\n",
        "K = opciones_detalle.calls['strike'].iloc[0]\n",
        "T = (fecha_vencimiento - datetime.today()).days / 365.0\n",
        "sigma = opciones_detalle.calls['impliedVolatility'].iloc[0]\n",
        "r = 0.02\n",
        "print(\"precio actual: \", S0, \"\\nstrike: \", K, \"\\ntiempo: \",T, \"\\nsigma: \", sigma)"
      ],
      "metadata": {
        "colab": {
          "base_uri": "https://localhost:8080/"
        },
        "id": "dlzTKmPQ9FIW",
        "outputId": "92fbef31-65cb-4a70-a0c7-b52ed5754a9c"
      },
      "execution_count": null,
      "outputs": [
        {
          "output_type": "stream",
          "name": "stdout",
          "text": [
            "precio actual:  96.5 \n",
            "strike:  95.0 \n",
            "tiempo:  0.03561643835616438 \n",
            "sigma:  0.8428360443115235\n"
          ]
        }
      ]
    },
    {
      "cell_type": "markdown",
      "source": [
        "###Black-Scholes"
      ],
      "metadata": {
        "id": "m0uJ4MoKSTs2"
      }
    },
    {
      "cell_type": "code",
      "source": [
        "d1 = (math.log(S0 / K) + (r + (sigma**2) / 2) * T) / (sigma * math.sqrt(T))\n",
        "d2 = d1 - sigma * math.sqrt(T)\n",
        "bs_call = S0 * norm.cdf(d1) - K * math.exp(-r * T) * norm.cdf(d2)\n",
        "bs_put = K * math.exp(-r * T) * norm.cdf(-d2) - S0 * norm.cdf(-d1)\n",
        "\n",
        "print(\"opcion de compra (call): \", bs_call)\n",
        "print(\"opcion de venta (put): \", bs_put)"
      ],
      "metadata": {
        "colab": {
          "base_uri": "https://localhost:8080/"
        },
        "id": "xj2mpToaSacp",
        "outputId": "a4da6e02-5d96-44ef-9b6b-c35ae0c0979d"
      },
      "execution_count": null,
      "outputs": [
        {
          "output_type": "stream",
          "name": "stdout",
          "text": [
            "opcion de compra (call):  6.883340312323192\n",
            "opcion de venta (put):  5.315693175807574\n"
          ]
        }
      ]
    },
    {
      "cell_type": "markdown",
      "source": [
        "###Modelo Binomial"
      ],
      "metadata": {
        "id": "QySFobiaSm1a"
      }
    },
    {
      "cell_type": "code",
      "source": [
        "n = 1000\n",
        "opcion = 'call'\n",
        "precio = aprox_binomial(S0, K, T, r, sigma, n, opcion)\n",
        "print(\"el precio de la opcion de compra (call) es: \", precio)\n",
        "opcion = 'put'\n",
        "precio = aprox_binomial(S0, K, T, r, sigma, n, opcion)\n",
        "print(\"el precio de la opcion de venta (put) es: \", precio)"
      ],
      "metadata": {
        "colab": {
          "base_uri": "https://localhost:8080/"
        },
        "id": "1Aq2huNoSpSk",
        "outputId": "24387c4f-70ce-4dbc-d988-abf9eacda73d"
      },
      "execution_count": null,
      "outputs": [
        {
          "output_type": "stream",
          "name": "stdout",
          "text": [
            "el precio de la opcion de compra (call) es:  6.884799712232387\n",
            "el precio de la opcion de venta (put) es:  5.317152575711843\n"
          ]
        }
      ]
    }
  ]
}